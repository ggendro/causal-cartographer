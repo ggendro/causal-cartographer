{
 "cells": [
  {
   "cell_type": "code",
   "execution_count": null,
   "metadata": {},
   "outputs": [],
   "source": [
    "import ipywidgets as widgets\n",
    "from IPython.display import display\n",
    "\n",
    "widget = widgets.Text(\n",
    "    placeholder='Type in your API key here',\n",
    "    description='API Key:',\n",
    "    disabled=False   \n",
    ")\n",
    "\n",
    "display(widget)"
   ]
  },
  {
   "cell_type": "code",
   "execution_count": null,
   "metadata": {},
   "outputs": [],
   "source": [
    "# Create LLM engine\n",
    "\n",
    "from smolagents import LiteLLMModel\n",
    "from typing import Dict\n",
    "\n",
    "base_model = LiteLLMModel(model_id=\"o3-mini-2025-01-31\", api_key=widget.value)\n",
    "\n",
    "Message = Dict[str, str]"
   ]
  },
  {
   "cell_type": "code",
   "execution_count": null,
   "metadata": {},
   "outputs": [],
   "source": [
    "# Import agent\n",
    "\n",
    "# from causal_world_modelling_agent.agents.manager import ManagerAgentFactory\n",
    "from causal_world_modelling_agent.agents.causal_discovery.atomic_discovery_agent import AtomicDiscoveryAgentFactory\n",
    "\n",
    "# manager = ManagerAgentFactory().createAgent(base_model)\n",
    "manager = AtomicDiscoveryAgentFactory().createAgent(base_model)"
   ]
  },
  {
   "cell_type": "code",
   "execution_count": null,
   "metadata": {},
   "outputs": [],
   "source": [
    "print(manager.system_prompt)"
   ]
  },
  {
   "cell_type": "code",
   "execution_count": null,
   "metadata": {},
   "outputs": [],
   "source": [
    "causal_graph = manager.run(\"\"\"\n",
    "            KUALA LUMPUR: Bursa Malaysia downtrend could be far from over as there is always more room to decline depending on the severity of COVID-19 pandemic and oil price war, said economists after key benchmark FBM KLCI took another beating in the early trading session yesterday. [...] \"We advise investors to seek shelter in defensive and high-dividend-yield stocks until the concerns over the global spread of COVID-19 subside. \"These, together with Malaysia’s unexpected change of coalition government, could pose downside risks to corporate earnings, which are difficult to measure at this time,\" it said.\n",
    "            \"\"\")"
   ]
  },
  {
   "cell_type": "code",
   "execution_count": null,
   "metadata": {},
   "outputs": [],
   "source": [
    "# Plot causal graph\n",
    "\n",
    "import networkx as nx\n",
    "import matplotlib.pyplot as plt\n",
    "\n",
    "nx.draw(causal_graph, with_labels=True, font_weight='bold')"
   ]
  }
 ],
 "metadata": {
  "kernelspec": {
   "display_name": "env",
   "language": "python",
   "name": "python3"
  },
  "language_info": {
   "codemirror_mode": {
    "name": "ipython",
    "version": 3
   },
   "file_extension": ".py",
   "mimetype": "text/x-python",
   "name": "python",
   "nbconvert_exporter": "python",
   "pygments_lexer": "ipython3",
   "version": "3.10.2"
  }
 },
 "nbformat": 4,
 "nbformat_minor": 2
}
