{
 "cells": [
  {
   "cell_type": "code",
   "execution_count": null,
   "metadata": {},
   "outputs": [],
   "source": [
    "# Enter user inputs for data directory and API key\n",
    "\n",
    "import ipywidgets as widgets\n",
    "from IPython.display import display\n",
    "\n",
    "data_widget = widgets.Text(\n",
    "    placeholder='Type in the data directory here',\n",
    "    description='Location:',\n",
    "    disabled=False   \n",
    ")\n",
    "\n",
    "api_widget = widgets.Text(\n",
    "    placeholder='Type in your API key here',\n",
    "    description='API Key:',\n",
    "    disabled=False   \n",
    ")\n",
    "\n",
    "display(data_widget, api_widget)"
   ]
  },
  {
   "cell_type": "code",
   "execution_count": null,
   "metadata": {},
   "outputs": [],
   "source": [
    "# Load data\n",
    "\n",
    "import os\n",
    "import json\n",
    "from typing import Generator\n",
    "\n",
    "data_dir = data_widget.value\n",
    "\n",
    "def load_data(data_dir: str) -> Generator[str, None, None]:\n",
    "    for filename in os.listdir(data_dir):\n",
    "        if filename.endswith('.json'):\n",
    "            with open(os.path.join(data_dir, filename)) as f:\n",
    "                json_file = json.load(f)\n",
    "                str_file = f\"Title: {json_file['title']['eng']}\\n - \\nContent:\\n{json_file['summary']}\"\n",
    "                yield str_file\n",
    "\n",
    "docs = load_data(data_dir)\n"
   ]
  },
  {
   "cell_type": "code",
   "execution_count": null,
   "metadata": {},
   "outputs": [],
   "source": [
    "# Create LLM engine\n",
    "\n",
    "from smolagents import LiteLLMModel\n",
    "from typing import Dict\n",
    "\n",
    "base_model = LiteLLMModel(model_id=\"o3-mini-2025-01-31\", api_key=api_widget.value)\n",
    "\n",
    "Message = Dict[str, str]"
   ]
  },
  {
   "cell_type": "code",
   "execution_count": null,
   "metadata": {},
   "outputs": [],
   "source": [
    "# Import agent\n",
    "\n",
    "# from causal_world_modelling_agent.agents.causal_discovery.atomic_discovery_agent import AtomicDiscoveryAgentFactory\n",
    "# from causal_world_modelling_agent.agents.causal_discovery.self_iterative_agent import SelfIterativeDiscoveryAgentFactory\n",
    "from causal_world_modelling_agent.agents.causal_discovery.atomic_rag_agent import AtomicRAGDiscoveryAgentFactory\n",
    "\n",
    "# discovery_manager = AtomicDiscoveryAgentFactory().createAgent(base_model)\n",
    "# discovery_manager = SelfIterativeDiscoveryAgentFactory(num_iterations=20, graph_save_path=\"../data/results/causal_graph_2025-02-26_23-07-34.gml\").createAgent(base_model)\n",
    "discovery_manager = AtomicRAGDiscoveryAgentFactory().createAgent(base_model)"
   ]
  },
  {
   "cell_type": "code",
   "execution_count": null,
   "metadata": {},
   "outputs": [],
   "source": [
    "print(discovery_manager.system_prompt)"
   ]
  },
  {
   "cell_type": "code",
   "execution_count": null,
   "metadata": {},
   "outputs": [],
   "source": [
    "for i, doc in enumerate(docs):\n",
    "    causal_graph = discovery_manager.run(doc)\n",
    "    discovery_manager.tools['graph_retriever'].update_graph(causal_graph)"
   ]
  },
  {
   "cell_type": "code",
   "execution_count": null,
   "metadata": {},
   "outputs": [],
   "source": [
    "# Plot causal graph\n",
    "\n",
    "import networkx as nx\n",
    "import matplotlib.pyplot as plt\n",
    "import datetime\n",
    "\n",
    "# Extract causal graph\n",
    "causal_graph = discovery_manager.tools['graph_retriever'].get_graph()\n",
    "\n",
    "# Clear plot\n",
    "plt.clf()\n",
    "\n",
    "# Get partitions\n",
    "partitions = list(nx.algorithms.community.louvain_communities(causal_graph.to_undirected()))\n",
    "print(f\"Number of partitions: {len(partitions)}\")\n",
    "\n",
    "# Create a color map: one color per partition\n",
    "colors = [plt.cm.tab20(i % 20) for i in range(len(partitions))]\n",
    "\n",
    "# Create clustered graph layout\n",
    "supergraph = nx.cycle_graph(len(partitions))\n",
    "center = list(nx.spring_layout(causal_graph, scale=5, seed=42).values())\n",
    "\n",
    "pos = {}\n",
    "for center, partition in zip(center, partitions):\n",
    "    pos.update(nx.spring_layout(causal_graph.subgraph(partition), center=center))\n",
    "# pos = nx.spring_layout(causal_graph, seed=42)\n",
    "\n",
    "# Plot graph\n",
    "plt.figure(figsize=(12, 12))\n",
    "nx.draw_networkx_edges(causal_graph, pos, alpha=0.5)\n",
    "\n",
    "# Draw nodes with the color of their partition\n",
    "for i, partition in enumerate(partitions):\n",
    "    nx.draw_networkx_nodes(causal_graph, pos, nodelist=partition, node_color=[colors[i]], node_size=100, alpha=0.7)\n",
    "    centroid = nx.center(causal_graph.subgraph(partition).to_undirected())\n",
    "    if len(centroid) > 0:\n",
    "        plt.text(*pos[centroid[0]], s=centroid[0], \n",
    "                 bbox=dict(facecolor='white', alpha=0.5), clip_on=True)\n",
    "        \n",
    "# Save graph\n",
    "current_time = datetime.datetime.now().strftime('%Y-%m-%d_%H-%M-%S')\n",
    "nx.write_gml(causal_graph, f\"../data/results/causal_graph_{current_time}.gml\", stringizer=str)\n",
    "plt.savefig(f\"../data/results/causal_graph_{current_time}.png\", bbox_inches='tight')"
   ]
  },
  {
   "cell_type": "code",
   "execution_count": null,
   "metadata": {},
   "outputs": [],
   "source": [
    "from causal_world_modelling_agent.agents.causal_inference.causal_inference_agent import CausalInferenceAgentFactory\n",
    "\n",
    "inference_agent = CausalInferenceAgentFactory().createAgent(base_model)"
   ]
  },
  {
   "cell_type": "code",
   "execution_count": null,
   "metadata": {},
   "outputs": [],
   "source": [
    "import networkx as nx\n",
    "\n",
    "node_data = {'COVID-19 pandemic severity': {'description': 'Severity of the COVID-19 outbreak affecting market conditions.', 'type': 'string', 'values': ['low', 'moderate', 'high']}, 'Oil price war impact': {'description': 'Impact of the oil price war on economic conditions and market sentiment.', 'type': 'string', 'values': ['low', 'moderate', 'high']}, 'Investor sentiment': {'description': 'Overall market sentiment of investors, which reacts to economic and financial uncertainties.', 'type': 'string', 'values': ['optimistic', 'neutral', 'pessimistic']}, 'FBM KLCI index level': {'description': 'The current level of the FBM KLCI stock index as observed during trading.', 'type': 'float', 'values': 'Real numbers representing index levels'}, 'Government intervention': {'description': 'Government action (or inaction) in terms of fiscal stimulus and liquidity injection.', 'type': 'string', 'values': ['active', 'inactive']}, 'Credit conditions': {'description': 'The state of credit lines and broader credit conditions affecting bank stocks and SMEs.', 'type': 'string', 'values': ['normal', 'stressed']}}\n",
    "G = nx.DiGraph()\n",
    "for key, value in node_data.items():\n",
    "    G.add_node(key, **{\"name\": key, **value})\n",
    "\n",
    "edge_data = [('COVID-19 pandemic severity', 'Investor sentiment', {'description': 'Increased COVID-19 severity deteriorates investor sentiment.', 'contextual_information': 'High outbreak risk reduces investor confidence.', 'type': 'direct', 'strength': 'strong', 'confidence': 'high', 'function': None}), ('Oil price war impact', 'Investor sentiment', {'description': 'The oil price war increases economic uncertainty, negatively affecting investor sentiment.', 'contextual_information': 'Heightened oil price conflicts add to the risk environment.', 'type': 'direct', 'strength': 'strong', 'confidence': 'high', 'function': None}), ('Investor sentiment', 'FBM KLCI index level', {'description': 'Negative investor sentiment leads to selling pressure and market decline.', 'contextual_information': 'Continued pessimism in the market has led to lower index levels.', 'type': 'direct', 'strength': 'moderate', 'confidence': 'high', 'function': None}), ('Government intervention', 'Credit conditions', {'description': 'Lack of active government intervention worsens credit conditions.', 'contextual_information': 'Insufficient fiscal measures leave credit lines stressed.', 'type': 'indirect', 'strength': 'moderate', 'confidence': 'medium', 'function': None}), ('Credit conditions', 'Investor sentiment', {'description': 'Stressed credit conditions further dampen investor sentiment.', 'contextual_information': 'Liquidity stress from credit issues heightens market fear.', 'type': 'indirect', 'strength': 'moderate', 'confidence': 'medium', 'function': None}), ('Credit conditions', 'FBM KLCI index level', {'description': 'Poor credit conditions contribute to market declines.', 'contextual_information': 'Deterioration in credit may lead to defaults and further index drops.', 'type': 'indirect', 'strength': 'moderate', 'confidence': 'medium', 'function': None})]\n",
    "for source, target, attrs in edge_data:\n",
    "    G.add_edge(source, target, **attrs)\n",
    "\n",
    "\n",
    "nx.draw(G, with_labels=True, font_weight='bold')"
   ]
  },
  {
   "cell_type": "code",
   "execution_count": null,
   "metadata": {},
   "outputs": [],
   "source": [
    "causal_effect, inferred_graph = inference_agent.run(\n",
    "    task=\"Compute the causal effect of the variables in the context of the COVID-19 pandemic\",\n",
    "    additional_args={\n",
    "            \"causal_graph\": G,\n",
    "            \"target_variable\": \"FBM KLCI index level\",\n",
    "            \"observations\": [\n",
    "                {\n",
    "                    \"name\": \"COVID-19 pandemic severity\",\n",
    "                    \"current_value\": \"low\"\n",
    "                }\n",
    "            ]\n",
    "        }\n",
    "    )"
   ]
  },
  {
   "cell_type": "code",
   "execution_count": null,
   "metadata": {},
   "outputs": [],
   "source": [
    "for key, value in inferred_graph.nodes(data=True):\n",
    "    print(key)\n",
    "    for k, v in value.items():\n",
    "        print(f\"\\t{k}: {v}\")"
   ]
  }
 ],
 "metadata": {
  "kernelspec": {
   "display_name": "env",
   "language": "python",
   "name": "python3"
  },
  "language_info": {
   "codemirror_mode": {
    "name": "ipython",
    "version": 3
   },
   "file_extension": ".py",
   "mimetype": "text/x-python",
   "name": "python",
   "nbconvert_exporter": "python",
   "pygments_lexer": "ipython3",
   "version": "3.10.2"
  }
 },
 "nbformat": 4,
 "nbformat_minor": 2
}
